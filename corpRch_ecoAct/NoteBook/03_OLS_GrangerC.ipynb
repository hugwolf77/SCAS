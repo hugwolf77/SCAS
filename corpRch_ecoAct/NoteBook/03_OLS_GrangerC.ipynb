{
 "cells": [
  {
   "cell_type": "code",
   "execution_count": 4,
   "metadata": {},
   "outputs": [],
   "source": [
    "import numpy as np\n",
    "import pandas as pd\n",
    "import scipy.stats as stats\n",
    "import matplotlib.pyplot as plt\n",
    "\n",
    "import statsmodels.api as sm\n",
    "import statsmodels.stats as sm_stat\n",
    "import statsmodels.tsa as smt\n",
    "import statsmodels.formula.api as smf"
   ]
  },
  {
   "cell_type": "code",
   "execution_count": null,
   "metadata": {},
   "outputs": [],
   "source": [
    "class LinearModel:\n",
    "    def __init__(self, data) -> None:\n",
    "        self.data = data\n",
    "        self.result = dict()\n",
    "        self.sMean = data.mean(axis=0)\n",
    "        self.sVar = data.var(axis=0)\n",
    "\n",
    "    #Lag operator:\n",
    "    def Lag(self, x, n=1):\n",
    "        if n ==0:\n",
    "            return x \n",
    "        if isinstance(x, pd.Series):\n",
    "            return x.shift(n)\n",
    "        else:\n",
    "            x = pd.Series(x)\n",
    "            return x.shift(n)\n",
    "        \n",
    "    #Difference operator:  << switching or depreacate\n",
    "    def d(self, x):\n",
    "        if isinstance(x, pd.Series):\n",
    "            return x.diff()\n",
    "        else:\n",
    "            x = pd.Series(x)\n",
    "            return x.diff()\n",
    "\n",
    "    #Trend/time operator:\n",
    "    def seq(self, x):\n",
    "        return list(range(1, len(x)+1))\n",
    "    \n",
    "    # the null hypothesis : variable (the series) is a zero-mean\n",
    "    def zeroMean(self):\n",
    "        stats.ttest_lsmp(self.data, popmean = 0)\n",
    "\n",
    "    def fomula_model(self, formula:str, data, mtype='unrestrict'):\n",
    "        model = smf.ols(formula=formula, data=self.data).fit()\n",
    "        fitOut = self.get_coef(model)\n",
    "        self.result[mtype] = fitOut\n",
    "        return self.result[mtype]\n",
    "\n",
    "    def get_coef(self, mdl_fit):\n",
    "        result = np.round(pd.DataFrame([mdl_fit.params, mdl_fit.tvalues, mdl_fit.pvalues], index = [\"coef\",\"t-value\",\"p-value\"]).T, 5)\n",
    "        return result\n",
    "    \n",
    "    def compareModel(self):\n",
    "         sm_stat.api.anova_lm(self.result['unrestrict'], )\n",
    "\n",
    "\n"
   ]
  }
 ],
 "metadata": {
  "kernelspec": {
   "display_name": "scas-EkJwidcN-py3.11",
   "language": "python",
   "name": "python3"
  },
  "language_info": {
   "codemirror_mode": {
    "name": "ipython",
    "version": 3
   },
   "file_extension": ".py",
   "mimetype": "text/x-python",
   "name": "python",
   "nbconvert_exporter": "python",
   "pygments_lexer": "ipython3",
   "version": "3.11.3"
  }
 },
 "nbformat": 4,
 "nbformat_minor": 2
}
